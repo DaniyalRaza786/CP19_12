{
 "cells": [
  {
   "cell_type": "code",
   "execution_count": 14,
   "metadata": {},
   "outputs": [],
   "source": [
    "from firebase import firebase\n",
    "firebase = firebase.FirebaseApplication('https://test-b04ad.firebaseio.com', None)\n"
   ]
  },
  {
   "cell_type": "code",
   "execution_count": 26,
   "metadata": {},
   "outputs": [
    {
     "name": "stdout",
     "output_type": "stream",
     "text": [
      "{'24': {'age': 36, 'name': 'Roohan', 'roll': 10}, '25': {'age': 36, 'name': 'Roohan', 'roll': 10}, '-Ldcwo2taQjw-rc5EaXH': '1024', '-Ldcx9xB3qBag3Cule9k': {'id4': 120}, 'ID34': 4598, 'id': 34, 'id2': 50, 'id3': 40, 'id4': {'-Ldcxhe_9Su1jLYeIAiC': 127}, 'id5': {'-LdcyNNKXnfkHX41E8CL': {'2': 127}}}\n"
     ]
    }
   ],
   "source": [
    "result = firebase.get('/student', None)\n",
    "print (result)"
   ]
  },
  {
   "cell_type": "code",
   "execution_count": 25,
   "metadata": {},
   "outputs": [
    {
     "name": "stdout",
     "output_type": "stream",
     "text": [
      "{'age': 36, 'name': 'Roohan', 'roll': 10}\n"
     ]
    }
   ],
   "source": [
    "key=24\n",
    "data ={\"age\":36,\"name\":\"Roohan\",\"roll\":10}\n",
    "result=firebase.put('/student',key,data)\n",
    "print (result)\n"
   ]
  },
  {
   "cell_type": "code",
   "execution_count": 27,
   "metadata": {},
   "outputs": [
    {
     "name": "stdout",
     "output_type": "stream",
     "text": [
      "{'age': 36, 'name': 'Roohan', 'roll': 10}\n"
     ]
    }
   ],
   "source": [
    "result = firebase.get('/student/25', None)\n",
    "print (result)"
   ]
  }
 ],
 "metadata": {
  "kernelspec": {
   "display_name": "Python 3",
   "language": "python",
   "name": "python3"
  },
  "language_info": {
   "codemirror_mode": {
    "name": "ipython",
    "version": 3
   },
   "file_extension": ".py",
   "mimetype": "text/x-python",
   "name": "python",
   "nbconvert_exporter": "python",
   "pygments_lexer": "ipython3",
   "version": "3.7.1"
  }
 },
 "nbformat": 4,
 "nbformat_minor": 2
}
